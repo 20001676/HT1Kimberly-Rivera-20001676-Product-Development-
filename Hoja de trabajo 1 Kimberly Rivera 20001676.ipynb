{
 "cells": [
  {
   "cell_type": "code",
   "execution_count": 47,
   "metadata": {},
   "outputs": [],
   "source": [
    "import numpy as np"
   ]
  },
  {
   "cell_type": "code",
   "execution_count": 48,
   "metadata": {},
   "outputs": [],
   "source": [
    "class my_regresion():\n",
    "    diccionario={}\n",
    "    def __init__(self, x, y):\n",
    "        self.x = list(x)\n",
    "        self.y = list(y)\n",
    "        self.n = int(len(x))\n",
    "        self.sumatoria_x=sum(x)\n",
    "        self.sumatoria_y=sum(y)\n",
    "        self.xy_sumatoria = sum([a * b for a, b in zip(x,y)])\n",
    "        self.x_cuadrado=(sum([a * b for a, b in zip(x,x)]))\n",
    "        self.beta0 = ((self.n * self.xy_sumatoria)-(self.sumatoria_x*self.sumatoria_y))/((self.n * self.x_cuadrado)-(self.sumatoria_x**2))\n",
    "        self.beta1=((self.x_cuadrado*self.sumatoria_y)-(self.sumatoria_x*self.xy_sumatoria))/((self.n * self.x_cuadrado-(self.sumatoria_x**2)))\n",
    "        my_regresion.diccionario[\"b0\"]=self.beta0\n",
    "        my_regresion.diccionario[\"b1\"]=self.beta1\n",
    "    \n",
    "    def predict(self,val):\n",
    "        prediccion_inicial = (self.beta0 * val + self.beta1)\n",
    "        return prediccion_inicial\n",
    "\n",
    "    def predictN(self,vals):\n",
    "        self.values = list(vals)\n",
    "        self.resultados = ([self.beta0 * vals + self.beta1 for vals in self.values])\n",
    "        return self.resultados\n",
    "    \n",
    "    def r2(self):\n",
    "        self.error = (sum([a - b for a, b in zip(self.resultados,self.y)]))**2        \n",
    "        my_regresion.diccionario[\"r2\"]=self.error\n",
    "        return self.error\n",
    "    \n",
    "    def r(self):\n",
    "        self.r = np.sqrt(self.error)\n",
    "        my_regresion.diccionario[\"r\"]=self.r\n",
    "        return self.r\n",
    "    \n",
    "    def getAllParams(self):\n",
    "        return my_regresion.diccionario\n",
    "    \n",
    "    @classmethod\n",
    "    def from_file(cls,path):\n",
    "        return cls"
   ]
  },
  {
   "cell_type": "code",
   "execution_count": 49,
   "metadata": {},
   "outputs": [],
   "source": [
    "ejercicio1=my_regresion(list((3,6,9,12,15)),list((15,18,21,24,27)))"
   ]
  },
  {
   "cell_type": "code",
   "execution_count": 50,
   "metadata": {},
   "outputs": [
    {
     "data": {
      "text/plain": [
       "28.0"
      ]
     },
     "execution_count": 50,
     "metadata": {},
     "output_type": "execute_result"
    }
   ],
   "source": [
    "ejercicio1.predict(16)"
   ]
  },
  {
   "cell_type": "code",
   "execution_count": 51,
   "metadata": {},
   "outputs": [
    {
     "data": {
      "text/plain": [
       "[15.0, 18.0, 21.0, 24.0, 27.0]"
      ]
     },
     "execution_count": 51,
     "metadata": {},
     "output_type": "execute_result"
    }
   ],
   "source": [
    "ejercicio1.predictN(list((3,6,9,12,15)))"
   ]
  },
  {
   "cell_type": "code",
   "execution_count": 52,
   "metadata": {},
   "outputs": [
    {
     "data": {
      "text/plain": [
       "0.0"
      ]
     },
     "execution_count": 52,
     "metadata": {},
     "output_type": "execute_result"
    }
   ],
   "source": [
    "ejercicio1.r2()"
   ]
  },
  {
   "cell_type": "code",
   "execution_count": 53,
   "metadata": {},
   "outputs": [
    {
     "data": {
      "text/plain": [
       "0.0"
      ]
     },
     "execution_count": 53,
     "metadata": {},
     "output_type": "execute_result"
    }
   ],
   "source": [
    "ejercicio1.r()"
   ]
  },
  {
   "cell_type": "code",
   "execution_count": 55,
   "metadata": {},
   "outputs": [
    {
     "data": {
      "text/plain": [
       "{'b0': 1.0, 'b1': 12.0, 'r2': 0.0, 'r': 0.0}"
      ]
     },
     "execution_count": 55,
     "metadata": {},
     "output_type": "execute_result"
    }
   ],
   "source": [
    "ejercicio1.getAllParams()"
   ]
  },
  {
   "cell_type": "code",
   "execution_count": 56,
   "metadata": {},
   "outputs": [
    {
     "data": {
      "text/plain": [
       "__main__.my_regresion"
      ]
     },
     "execution_count": 56,
     "metadata": {},
     "output_type": "execute_result"
    }
   ],
   "source": [
    "ejercicio1.from_file(\"Users/fredd/Desktop/Hoja de trabajo 1/Libro.csv\")"
   ]
  },
  {
   "cell_type": "code",
   "execution_count": null,
   "metadata": {},
   "outputs": [],
   "source": []
  }
 ],
 "metadata": {
  "kernelspec": {
   "display_name": "Python 3",
   "language": "python",
   "name": "python3"
  },
  "language_info": {
   "codemirror_mode": {
    "name": "ipython",
    "version": 3
   },
   "file_extension": ".py",
   "mimetype": "text/x-python",
   "name": "python",
   "nbconvert_exporter": "python",
   "pygments_lexer": "ipython3",
   "version": "3.7.6"
  }
 },
 "nbformat": 4,
 "nbformat_minor": 4
}
